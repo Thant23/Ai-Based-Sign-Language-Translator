{
 "cells": [
  {
   "cell_type": "code",
   "execution_count": 10,
   "id": "fc5d8907-72a0-4a11-a9fe-3b1294482e11",
   "metadata": {},
   "outputs": [],
   "source": [
    "import cv2\n",
    "import os\n",
    "import uuid\n",
    "import time"
   ]
  },
  {
   "cell_type": "code",
   "execution_count": 11,
   "id": "ca0a48c8-0880-4c37-a7ef-2dd24ee069e1",
   "metadata": {},
   "outputs": [],
   "source": [
    "labels = ['Hello', 'ILoveYou', 'Goodbye', 'Sorry', 'Thanks', 'No', 'Yes']\n",
    "number_imgs = 15\n",
    "imagesPath = os.path.join('Data', 'Sign_language_data', 'train', 'images')"
   ]
  },
  {
   "cell_type": "code",
   "execution_count": 12,
   "id": "b3672687-4dd1-4ac4-9952-5dc302f2215b",
   "metadata": {},
   "outputs": [
    {
     "name": "stdout",
     "output_type": "stream",
     "text": [
      "Collecting Images for Hello\n",
      "📸 Starting image capture for \"Hello\"...\n",
      "Collecting Images for ILoveYou\n",
      "📸 Starting image capture for \"ILoveYou\"...\n",
      "Collecting Images for Goodbye\n",
      "📸 Starting image capture for \"Goodbye\"...\n",
      "Collecting Images for Sorry\n",
      "📸 Starting image capture for \"Sorry\"...\n",
      "Collecting Images for Thanks\n",
      "📸 Starting image capture for \"Thanks\"...\n",
      "Collecting Images for No\n",
      "📸 Starting image capture for \"No\"...\n",
      "Collecting Images for Yes\n",
      "📸 Starting image capture for \"Yes\"...\n"
     ]
    }
   ],
   "source": [
    "for label in labels:\n",
    "    folder_path = os.path.join(imagesPath, label)\n",
    "    os.makedirs(folder_path, exist_ok=True)\n",
    "    \n",
    "    cap = cv2.VideoCapture(0)\n",
    "    print('Collecting Images for {}'.format(label))\n",
    "    time.sleep(5)\n",
    "    print(f'📸 Starting image capture for \"{label}\"...')\n",
    "    \n",
    "    for imgnum in range(number_imgs):\n",
    "        ret, frame = cap.read()\n",
    "        imagename = os.path.join(folder_path, f\"{label}.{uuid.uuid1()}.jpg\")\n",
    "        cv2.imwrite(imagename, frame)\n",
    "        cv2.imshow('frame', frame)\n",
    "        time.sleep(2)\n",
    "\n",
    "        if cv2.waitKey(1) & 0xFF == ord('q'):\n",
    "            break\n",
    "    \n",
    "    cap.release()\n",
    "    cv2.destroyAllWindows()"
   ]
  }
 ],
 "metadata": {
  "kernelspec": {
   "display_name": "Python 3 (ipykernel)",
   "language": "python",
   "name": "python3"
  },
  "language_info": {
   "codemirror_mode": {
    "name": "ipython",
    "version": 3
   },
   "file_extension": ".py",
   "mimetype": "text/x-python",
   "name": "python",
   "nbconvert_exporter": "python",
   "pygments_lexer": "ipython3",
   "version": "3.10.0"
  }
 },
 "nbformat": 4,
 "nbformat_minor": 5
}
